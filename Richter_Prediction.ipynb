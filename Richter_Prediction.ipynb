{
  "nbformat": 4,
  "nbformat_minor": 0,
  "metadata": {
    "colab": {
      "provenance": []
    },
    "kernelspec": {
      "name": "python3",
      "display_name": "Python 3"
    },
    "language_info": {
      "name": "python"
    }
  },
  "cells": [
    {
      "cell_type": "markdown",
      "source": [
        "Import Libraries"
      ],
      "metadata": {
        "id": "SPnncgEvmEaA"
      }
    },
    {
      "cell_type": "code",
      "execution_count": 2,
      "metadata": {
        "id": "j_86x6qjln9L"
      },
      "outputs": [],
      "source": [
        "%matplotlib inline\n",
        "\n",
        "import numpy as np\n",
        "import pandas as pd\n",
        "\n",
        "import matplotlib.pyplot as plt\n",
        "import seaborn as sns"
      ]
    },
    {
      "cell_type": "markdown",
      "source": [
        "## Data Loading"
      ],
      "metadata": {
        "id": "ZZW8i0cZ7noM"
      }
    },
    {
      "cell_type": "markdown",
      "source": [
        "**Training Values**: There are 38 features, including structual information as well as legal information. Each building is identified by a unique (random) building_id, which you can use as an index.\n",
        "First of all, we download the data and we can see the amount and type of data we have"
      ],
      "metadata": {
        "id": "-5UrdfiVmEBz"
      }
    },
    {
      "cell_type": "code",
      "source": [
        "!wget https://github.com/alan-flint/Richter-DrivenData/raw/master/input/train_values.csv\n",
        "df_train_values= pd.read_csv(\"train_values.csv\", index_col = \"building_id\")\n",
        "df_train_values.shape"
      ],
      "metadata": {
        "colab": {
          "base_uri": "https://localhost:8080/"
        },
        "id": "m6tG9sYJ7CXu",
        "outputId": "f3894e20-9d08-4095-ad6a-6ec5af82a19d"
      },
      "execution_count": 3,
      "outputs": [
        {
          "output_type": "stream",
          "name": "stdout",
          "text": [
            "--2022-12-13 09:48:15--  https://github.com/alan-flint/Richter-DrivenData/raw/master/input/train_values.csv\n",
            "Resolving github.com (github.com)... 140.82.113.4\n",
            "Connecting to github.com (github.com)|140.82.113.4|:443... connected.\n",
            "HTTP request sent, awaiting response... 302 Found\n",
            "Location: https://raw.githubusercontent.com/alan-flint/Richter-DrivenData/master/input/train_values.csv [following]\n",
            "--2022-12-13 09:48:15--  https://raw.githubusercontent.com/alan-flint/Richter-DrivenData/master/input/train_values.csv\n",
            "Resolving raw.githubusercontent.com (raw.githubusercontent.com)... 185.199.109.133, 185.199.110.133, 185.199.108.133, ...\n",
            "Connecting to raw.githubusercontent.com (raw.githubusercontent.com)|185.199.109.133|:443... connected.\n",
            "HTTP request sent, awaiting response... 200 OK\n",
            "Length: 23442727 (22M) [text/plain]\n",
            "Saving to: ‘train_values.csv’\n",
            "\n",
            "train_values.csv    100%[===================>]  22.36M  --.-KB/s    in 0.1s    \n",
            "\n",
            "2022-12-13 09:48:16 (157 MB/s) - ‘train_values.csv’ saved [23442727/23442727]\n",
            "\n"
          ]
        },
        {
          "output_type": "execute_result",
          "data": {
            "text/plain": [
              "(260601, 38)"
            ]
          },
          "metadata": {},
          "execution_count": 3
        }
      ]
    },
    {
      "cell_type": "code",
      "source": [
        "df_train_values.dtypes"
      ],
      "metadata": {
        "colab": {
          "base_uri": "https://localhost:8080/"
        },
        "id": "kXdWAjKR8LmQ",
        "outputId": "0be094ed-c9bd-433a-ec68-d24cbd2ab25e"
      },
      "execution_count": 23,
      "outputs": [
        {
          "output_type": "execute_result",
          "data": {
            "text/plain": [
              "geo_level_1_id                             int64\n",
              "geo_level_2_id                             int64\n",
              "geo_level_3_id                             int64\n",
              "count_floors_pre_eq                        int64\n",
              "age                                        int64\n",
              "area_percentage                            int64\n",
              "height_percentage                          int64\n",
              "land_surface_condition                    object\n",
              "foundation_type                           object\n",
              "roof_type                                 object\n",
              "ground_floor_type                         object\n",
              "other_floor_type                          object\n",
              "position                                  object\n",
              "plan_configuration                        object\n",
              "has_superstructure_adobe_mud               int64\n",
              "has_superstructure_mud_mortar_stone        int64\n",
              "has_superstructure_stone_flag              int64\n",
              "has_superstructure_cement_mortar_stone     int64\n",
              "has_superstructure_mud_mortar_brick        int64\n",
              "has_superstructure_cement_mortar_brick     int64\n",
              "has_superstructure_timber                  int64\n",
              "has_superstructure_bamboo                  int64\n",
              "has_superstructure_rc_non_engineered       int64\n",
              "has_superstructure_rc_engineered           int64\n",
              "has_superstructure_other                   int64\n",
              "legal_ownership_status                    object\n",
              "count_families                             int64\n",
              "has_secondary_use                          int64\n",
              "has_secondary_use_agriculture              int64\n",
              "has_secondary_use_hotel                    int64\n",
              "has_secondary_use_rental                   int64\n",
              "has_secondary_use_institution              int64\n",
              "has_secondary_use_school                   int64\n",
              "has_secondary_use_industry                 int64\n",
              "has_secondary_use_health_post              int64\n",
              "has_secondary_use_gov_office               int64\n",
              "has_secondary_use_use_police               int64\n",
              "has_secondary_use_other                    int64\n",
              "dtype: object"
            ]
          },
          "metadata": {},
          "execution_count": 23
        }
      ]
    },
    {
      "cell_type": "markdown",
      "source": [
        "Every `building_id` in the training values data has a corresponding label in this file. A $1$ represents low damage, a $2$ represents a medium amount of damage, and a $3$ represents almost complete destruction."
      ],
      "metadata": {
        "id": "i6L4iOa339og"
      }
    },
    {
      "cell_type": "code",
      "source": [
        "!wget https://github.com/alan-flint/Richter-DrivenData/raw/master/input/train_labels.csv\n",
        "df_train_labels = pd.read_csv(\"train_labels.csv\", index_col = \"building_id\")\n",
        "df_train_labels"
      ],
      "metadata": {
        "colab": {
          "base_uri": "https://localhost:8080/",
          "height": 733
        },
        "id": "wXG0eonu7gQb",
        "outputId": "2b602425-57f0-42f2-f45f-63829d7aae81"
      },
      "execution_count": 5,
      "outputs": [
        {
          "output_type": "stream",
          "name": "stdout",
          "text": [
            "--2022-12-13 09:48:23--  https://github.com/alan-flint/Richter-DrivenData/raw/master/input/train_labels.csv\n",
            "Resolving github.com (github.com)... 140.82.112.4\n",
            "Connecting to github.com (github.com)|140.82.112.4|:443... connected.\n",
            "HTTP request sent, awaiting response... 302 Found\n",
            "Location: https://raw.githubusercontent.com/alan-flint/Richter-DrivenData/master/input/train_labels.csv [following]\n",
            "--2022-12-13 09:48:24--  https://raw.githubusercontent.com/alan-flint/Richter-DrivenData/master/input/train_labels.csv\n",
            "Resolving raw.githubusercontent.com (raw.githubusercontent.com)... 185.199.111.133, 185.199.109.133, 185.199.110.133, ...\n",
            "Connecting to raw.githubusercontent.com (raw.githubusercontent.com)|185.199.111.133|:443... connected.\n",
            "HTTP request sent, awaiting response... 200 OK\n",
            "Length: 2330792 (2.2M) [text/plain]\n",
            "Saving to: ‘train_labels.csv’\n",
            "\n",
            "train_labels.csv    100%[===================>]   2.22M  --.-KB/s    in 0.06s   \n",
            "\n",
            "2022-12-13 09:48:25 (35.6 MB/s) - ‘train_labels.csv’ saved [2330792/2330792]\n",
            "\n"
          ]
        },
        {
          "output_type": "execute_result",
          "data": {
            "text/plain": [
              "             damage_grade\n",
              "building_id              \n",
              "802906                  3\n",
              "28830                   2\n",
              "94947                   3\n",
              "590882                  2\n",
              "201944                  3\n",
              "...                   ...\n",
              "688636                  2\n",
              "669485                  3\n",
              "602512                  3\n",
              "151409                  2\n",
              "747594                  3\n",
              "\n",
              "[260601 rows x 1 columns]"
            ],
            "text/html": [
              "\n",
              "  <div id=\"df-4b8e7b5e-0285-4ef2-a45a-31d4f41fc262\">\n",
              "    <div class=\"colab-df-container\">\n",
              "      <div>\n",
              "<style scoped>\n",
              "    .dataframe tbody tr th:only-of-type {\n",
              "        vertical-align: middle;\n",
              "    }\n",
              "\n",
              "    .dataframe tbody tr th {\n",
              "        vertical-align: top;\n",
              "    }\n",
              "\n",
              "    .dataframe thead th {\n",
              "        text-align: right;\n",
              "    }\n",
              "</style>\n",
              "<table border=\"1\" class=\"dataframe\">\n",
              "  <thead>\n",
              "    <tr style=\"text-align: right;\">\n",
              "      <th></th>\n",
              "      <th>damage_grade</th>\n",
              "    </tr>\n",
              "    <tr>\n",
              "      <th>building_id</th>\n",
              "      <th></th>\n",
              "    </tr>\n",
              "  </thead>\n",
              "  <tbody>\n",
              "    <tr>\n",
              "      <th>802906</th>\n",
              "      <td>3</td>\n",
              "    </tr>\n",
              "    <tr>\n",
              "      <th>28830</th>\n",
              "      <td>2</td>\n",
              "    </tr>\n",
              "    <tr>\n",
              "      <th>94947</th>\n",
              "      <td>3</td>\n",
              "    </tr>\n",
              "    <tr>\n",
              "      <th>590882</th>\n",
              "      <td>2</td>\n",
              "    </tr>\n",
              "    <tr>\n",
              "      <th>201944</th>\n",
              "      <td>3</td>\n",
              "    </tr>\n",
              "    <tr>\n",
              "      <th>...</th>\n",
              "      <td>...</td>\n",
              "    </tr>\n",
              "    <tr>\n",
              "      <th>688636</th>\n",
              "      <td>2</td>\n",
              "    </tr>\n",
              "    <tr>\n",
              "      <th>669485</th>\n",
              "      <td>3</td>\n",
              "    </tr>\n",
              "    <tr>\n",
              "      <th>602512</th>\n",
              "      <td>3</td>\n",
              "    </tr>\n",
              "    <tr>\n",
              "      <th>151409</th>\n",
              "      <td>2</td>\n",
              "    </tr>\n",
              "    <tr>\n",
              "      <th>747594</th>\n",
              "      <td>3</td>\n",
              "    </tr>\n",
              "  </tbody>\n",
              "</table>\n",
              "<p>260601 rows × 1 columns</p>\n",
              "</div>\n",
              "      <button class=\"colab-df-convert\" onclick=\"convertToInteractive('df-4b8e7b5e-0285-4ef2-a45a-31d4f41fc262')\"\n",
              "              title=\"Convert this dataframe to an interactive table.\"\n",
              "              style=\"display:none;\">\n",
              "        \n",
              "  <svg xmlns=\"http://www.w3.org/2000/svg\" height=\"24px\"viewBox=\"0 0 24 24\"\n",
              "       width=\"24px\">\n",
              "    <path d=\"M0 0h24v24H0V0z\" fill=\"none\"/>\n",
              "    <path d=\"M18.56 5.44l.94 2.06.94-2.06 2.06-.94-2.06-.94-.94-2.06-.94 2.06-2.06.94zm-11 1L8.5 8.5l.94-2.06 2.06-.94-2.06-.94L8.5 2.5l-.94 2.06-2.06.94zm10 10l.94 2.06.94-2.06 2.06-.94-2.06-.94-.94-2.06-.94 2.06-2.06.94z\"/><path d=\"M17.41 7.96l-1.37-1.37c-.4-.4-.92-.59-1.43-.59-.52 0-1.04.2-1.43.59L10.3 9.45l-7.72 7.72c-.78.78-.78 2.05 0 2.83L4 21.41c.39.39.9.59 1.41.59.51 0 1.02-.2 1.41-.59l7.78-7.78 2.81-2.81c.8-.78.8-2.07 0-2.86zM5.41 20L4 18.59l7.72-7.72 1.47 1.35L5.41 20z\"/>\n",
              "  </svg>\n",
              "      </button>\n",
              "      \n",
              "  <style>\n",
              "    .colab-df-container {\n",
              "      display:flex;\n",
              "      flex-wrap:wrap;\n",
              "      gap: 12px;\n",
              "    }\n",
              "\n",
              "    .colab-df-convert {\n",
              "      background-color: #E8F0FE;\n",
              "      border: none;\n",
              "      border-radius: 50%;\n",
              "      cursor: pointer;\n",
              "      display: none;\n",
              "      fill: #1967D2;\n",
              "      height: 32px;\n",
              "      padding: 0 0 0 0;\n",
              "      width: 32px;\n",
              "    }\n",
              "\n",
              "    .colab-df-convert:hover {\n",
              "      background-color: #E2EBFA;\n",
              "      box-shadow: 0px 1px 2px rgba(60, 64, 67, 0.3), 0px 1px 3px 1px rgba(60, 64, 67, 0.15);\n",
              "      fill: #174EA6;\n",
              "    }\n",
              "\n",
              "    [theme=dark] .colab-df-convert {\n",
              "      background-color: #3B4455;\n",
              "      fill: #D2E3FC;\n",
              "    }\n",
              "\n",
              "    [theme=dark] .colab-df-convert:hover {\n",
              "      background-color: #434B5C;\n",
              "      box-shadow: 0px 1px 3px 1px rgba(0, 0, 0, 0.15);\n",
              "      filter: drop-shadow(0px 1px 2px rgba(0, 0, 0, 0.3));\n",
              "      fill: #FFFFFF;\n",
              "    }\n",
              "  </style>\n",
              "\n",
              "      <script>\n",
              "        const buttonEl =\n",
              "          document.querySelector('#df-4b8e7b5e-0285-4ef2-a45a-31d4f41fc262 button.colab-df-convert');\n",
              "        buttonEl.style.display =\n",
              "          google.colab.kernel.accessAllowed ? 'block' : 'none';\n",
              "\n",
              "        async function convertToInteractive(key) {\n",
              "          const element = document.querySelector('#df-4b8e7b5e-0285-4ef2-a45a-31d4f41fc262');\n",
              "          const dataTable =\n",
              "            await google.colab.kernel.invokeFunction('convertToInteractive',\n",
              "                                                     [key], {});\n",
              "          if (!dataTable) return;\n",
              "\n",
              "          const docLinkHtml = 'Like what you see? Visit the ' +\n",
              "            '<a target=\"_blank\" href=https://colab.research.google.com/notebooks/data_table.ipynb>data table notebook</a>'\n",
              "            + ' to learn more about interactive tables.';\n",
              "          element.innerHTML = '';\n",
              "          dataTable['output_type'] = 'display_data';\n",
              "          await google.colab.output.renderOutput(dataTable, element);\n",
              "          const docLink = document.createElement('div');\n",
              "          docLink.innerHTML = docLinkHtml;\n",
              "          element.appendChild(docLink);\n",
              "        }\n",
              "      </script>\n",
              "    </div>\n",
              "  </div>\n",
              "  "
            ]
          },
          "metadata": {},
          "execution_count": 5
        }
      ]
    },
    {
      "cell_type": "markdown",
      "source": [
        "Now we can mix the tables with the features and the damage_grade so we have our database"
      ],
      "metadata": {
        "id": "-vtEHFY19iMM"
      }
    },
    {
      "cell_type": "code",
      "source": [
        "df_train_values.join(df_train_labels)"
      ],
      "metadata": {
        "id": "8mvtLW4f97N2",
        "colab": {
          "base_uri": "https://localhost:8080/",
          "height": 519
        },
        "outputId": "c56cebef-8fb5-4cbf-80d9-4a23ccb44b7d"
      },
      "execution_count": 6,
      "outputs": [
        {
          "output_type": "execute_result",
          "data": {
            "text/plain": [
              "             geo_level_1_id  geo_level_2_id  geo_level_3_id  \\\n",
              "building_id                                                   \n",
              "802906                    6             487           12198   \n",
              "28830                     8             900            2812   \n",
              "94947                    21             363            8973   \n",
              "590882                   22             418           10694   \n",
              "201944                   11             131            1488   \n",
              "...                     ...             ...             ...   \n",
              "688636                   25            1335            1621   \n",
              "669485                   17             715            2060   \n",
              "602512                   17              51            8163   \n",
              "151409                   26              39            1851   \n",
              "747594                   21               9            9101   \n",
              "\n",
              "             count_floors_pre_eq  age  area_percentage  height_percentage  \\\n",
              "building_id                                                                 \n",
              "802906                         2   30                6                  5   \n",
              "28830                          2   10                8                  7   \n",
              "94947                          2   10                5                  5   \n",
              "590882                         2   10                6                  5   \n",
              "201944                         3   30                8                  9   \n",
              "...                          ...  ...              ...                ...   \n",
              "688636                         1   55                6                  3   \n",
              "669485                         2    0                6                  5   \n",
              "602512                         3   55                6                  7   \n",
              "151409                         2   10               14                  6   \n",
              "747594                         3   10                7                  6   \n",
              "\n",
              "            land_surface_condition foundation_type roof_type  ...  \\\n",
              "building_id                                                   ...   \n",
              "802906                           t               r         n  ...   \n",
              "28830                            o               r         n  ...   \n",
              "94947                            t               r         n  ...   \n",
              "590882                           t               r         n  ...   \n",
              "201944                           t               r         n  ...   \n",
              "...                            ...             ...       ...  ...   \n",
              "688636                           n               r         n  ...   \n",
              "669485                           t               r         n  ...   \n",
              "602512                           t               r         q  ...   \n",
              "151409                           t               r         x  ...   \n",
              "747594                           n               r         n  ...   \n",
              "\n",
              "            has_secondary_use_hotel has_secondary_use_rental  \\\n",
              "building_id                                                    \n",
              "802906                            0                        0   \n",
              "28830                             0                        0   \n",
              "94947                             0                        0   \n",
              "590882                            0                        0   \n",
              "201944                            0                        0   \n",
              "...                             ...                      ...   \n",
              "688636                            0                        0   \n",
              "669485                            0                        0   \n",
              "602512                            0                        0   \n",
              "151409                            0                        0   \n",
              "747594                            0                        0   \n",
              "\n",
              "            has_secondary_use_institution has_secondary_use_school  \\\n",
              "building_id                                                          \n",
              "802906                                  0                        0   \n",
              "28830                                   0                        0   \n",
              "94947                                   0                        0   \n",
              "590882                                  0                        0   \n",
              "201944                                  0                        0   \n",
              "...                                   ...                      ...   \n",
              "688636                                  0                        0   \n",
              "669485                                  0                        0   \n",
              "602512                                  0                        0   \n",
              "151409                                  0                        0   \n",
              "747594                                  0                        0   \n",
              "\n",
              "             has_secondary_use_industry  has_secondary_use_health_post  \\\n",
              "building_id                                                              \n",
              "802906                                0                              0   \n",
              "28830                                 0                              0   \n",
              "94947                                 0                              0   \n",
              "590882                                0                              0   \n",
              "201944                                0                              0   \n",
              "...                                 ...                            ...   \n",
              "688636                                0                              0   \n",
              "669485                                0                              0   \n",
              "602512                                0                              0   \n",
              "151409                                0                              0   \n",
              "747594                                0                              0   \n",
              "\n",
              "             has_secondary_use_gov_office  has_secondary_use_use_police  \\\n",
              "building_id                                                               \n",
              "802906                                  0                             0   \n",
              "28830                                   0                             0   \n",
              "94947                                   0                             0   \n",
              "590882                                  0                             0   \n",
              "201944                                  0                             0   \n",
              "...                                   ...                           ...   \n",
              "688636                                  0                             0   \n",
              "669485                                  0                             0   \n",
              "602512                                  0                             0   \n",
              "151409                                  0                             0   \n",
              "747594                                  0                             0   \n",
              "\n",
              "             has_secondary_use_other  damage_grade  \n",
              "building_id                                         \n",
              "802906                             0             3  \n",
              "28830                              0             2  \n",
              "94947                              0             3  \n",
              "590882                             0             2  \n",
              "201944                             0             3  \n",
              "...                              ...           ...  \n",
              "688636                             0             2  \n",
              "669485                             0             3  \n",
              "602512                             0             3  \n",
              "151409                             0             2  \n",
              "747594                             0             3  \n",
              "\n",
              "[260601 rows x 39 columns]"
            ],
            "text/html": [
              "\n",
              "  <div id=\"df-18e4fe89-7ac2-496d-b44d-5ddbf1d25a39\">\n",
              "    <div class=\"colab-df-container\">\n",
              "      <div>\n",
              "<style scoped>\n",
              "    .dataframe tbody tr th:only-of-type {\n",
              "        vertical-align: middle;\n",
              "    }\n",
              "\n",
              "    .dataframe tbody tr th {\n",
              "        vertical-align: top;\n",
              "    }\n",
              "\n",
              "    .dataframe thead th {\n",
              "        text-align: right;\n",
              "    }\n",
              "</style>\n",
              "<table border=\"1\" class=\"dataframe\">\n",
              "  <thead>\n",
              "    <tr style=\"text-align: right;\">\n",
              "      <th></th>\n",
              "      <th>geo_level_1_id</th>\n",
              "      <th>geo_level_2_id</th>\n",
              "      <th>geo_level_3_id</th>\n",
              "      <th>count_floors_pre_eq</th>\n",
              "      <th>age</th>\n",
              "      <th>area_percentage</th>\n",
              "      <th>height_percentage</th>\n",
              "      <th>land_surface_condition</th>\n",
              "      <th>foundation_type</th>\n",
              "      <th>roof_type</th>\n",
              "      <th>...</th>\n",
              "      <th>has_secondary_use_hotel</th>\n",
              "      <th>has_secondary_use_rental</th>\n",
              "      <th>has_secondary_use_institution</th>\n",
              "      <th>has_secondary_use_school</th>\n",
              "      <th>has_secondary_use_industry</th>\n",
              "      <th>has_secondary_use_health_post</th>\n",
              "      <th>has_secondary_use_gov_office</th>\n",
              "      <th>has_secondary_use_use_police</th>\n",
              "      <th>has_secondary_use_other</th>\n",
              "      <th>damage_grade</th>\n",
              "    </tr>\n",
              "    <tr>\n",
              "      <th>building_id</th>\n",
              "      <th></th>\n",
              "      <th></th>\n",
              "      <th></th>\n",
              "      <th></th>\n",
              "      <th></th>\n",
              "      <th></th>\n",
              "      <th></th>\n",
              "      <th></th>\n",
              "      <th></th>\n",
              "      <th></th>\n",
              "      <th></th>\n",
              "      <th></th>\n",
              "      <th></th>\n",
              "      <th></th>\n",
              "      <th></th>\n",
              "      <th></th>\n",
              "      <th></th>\n",
              "      <th></th>\n",
              "      <th></th>\n",
              "      <th></th>\n",
              "      <th></th>\n",
              "    </tr>\n",
              "  </thead>\n",
              "  <tbody>\n",
              "    <tr>\n",
              "      <th>802906</th>\n",
              "      <td>6</td>\n",
              "      <td>487</td>\n",
              "      <td>12198</td>\n",
              "      <td>2</td>\n",
              "      <td>30</td>\n",
              "      <td>6</td>\n",
              "      <td>5</td>\n",
              "      <td>t</td>\n",
              "      <td>r</td>\n",
              "      <td>n</td>\n",
              "      <td>...</td>\n",
              "      <td>0</td>\n",
              "      <td>0</td>\n",
              "      <td>0</td>\n",
              "      <td>0</td>\n",
              "      <td>0</td>\n",
              "      <td>0</td>\n",
              "      <td>0</td>\n",
              "      <td>0</td>\n",
              "      <td>0</td>\n",
              "      <td>3</td>\n",
              "    </tr>\n",
              "    <tr>\n",
              "      <th>28830</th>\n",
              "      <td>8</td>\n",
              "      <td>900</td>\n",
              "      <td>2812</td>\n",
              "      <td>2</td>\n",
              "      <td>10</td>\n",
              "      <td>8</td>\n",
              "      <td>7</td>\n",
              "      <td>o</td>\n",
              "      <td>r</td>\n",
              "      <td>n</td>\n",
              "      <td>...</td>\n",
              "      <td>0</td>\n",
              "      <td>0</td>\n",
              "      <td>0</td>\n",
              "      <td>0</td>\n",
              "      <td>0</td>\n",
              "      <td>0</td>\n",
              "      <td>0</td>\n",
              "      <td>0</td>\n",
              "      <td>0</td>\n",
              "      <td>2</td>\n",
              "    </tr>\n",
              "    <tr>\n",
              "      <th>94947</th>\n",
              "      <td>21</td>\n",
              "      <td>363</td>\n",
              "      <td>8973</td>\n",
              "      <td>2</td>\n",
              "      <td>10</td>\n",
              "      <td>5</td>\n",
              "      <td>5</td>\n",
              "      <td>t</td>\n",
              "      <td>r</td>\n",
              "      <td>n</td>\n",
              "      <td>...</td>\n",
              "      <td>0</td>\n",
              "      <td>0</td>\n",
              "      <td>0</td>\n",
              "      <td>0</td>\n",
              "      <td>0</td>\n",
              "      <td>0</td>\n",
              "      <td>0</td>\n",
              "      <td>0</td>\n",
              "      <td>0</td>\n",
              "      <td>3</td>\n",
              "    </tr>\n",
              "    <tr>\n",
              "      <th>590882</th>\n",
              "      <td>22</td>\n",
              "      <td>418</td>\n",
              "      <td>10694</td>\n",
              "      <td>2</td>\n",
              "      <td>10</td>\n",
              "      <td>6</td>\n",
              "      <td>5</td>\n",
              "      <td>t</td>\n",
              "      <td>r</td>\n",
              "      <td>n</td>\n",
              "      <td>...</td>\n",
              "      <td>0</td>\n",
              "      <td>0</td>\n",
              "      <td>0</td>\n",
              "      <td>0</td>\n",
              "      <td>0</td>\n",
              "      <td>0</td>\n",
              "      <td>0</td>\n",
              "      <td>0</td>\n",
              "      <td>0</td>\n",
              "      <td>2</td>\n",
              "    </tr>\n",
              "    <tr>\n",
              "      <th>201944</th>\n",
              "      <td>11</td>\n",
              "      <td>131</td>\n",
              "      <td>1488</td>\n",
              "      <td>3</td>\n",
              "      <td>30</td>\n",
              "      <td>8</td>\n",
              "      <td>9</td>\n",
              "      <td>t</td>\n",
              "      <td>r</td>\n",
              "      <td>n</td>\n",
              "      <td>...</td>\n",
              "      <td>0</td>\n",
              "      <td>0</td>\n",
              "      <td>0</td>\n",
              "      <td>0</td>\n",
              "      <td>0</td>\n",
              "      <td>0</td>\n",
              "      <td>0</td>\n",
              "      <td>0</td>\n",
              "      <td>0</td>\n",
              "      <td>3</td>\n",
              "    </tr>\n",
              "    <tr>\n",
              "      <th>...</th>\n",
              "      <td>...</td>\n",
              "      <td>...</td>\n",
              "      <td>...</td>\n",
              "      <td>...</td>\n",
              "      <td>...</td>\n",
              "      <td>...</td>\n",
              "      <td>...</td>\n",
              "      <td>...</td>\n",
              "      <td>...</td>\n",
              "      <td>...</td>\n",
              "      <td>...</td>\n",
              "      <td>...</td>\n",
              "      <td>...</td>\n",
              "      <td>...</td>\n",
              "      <td>...</td>\n",
              "      <td>...</td>\n",
              "      <td>...</td>\n",
              "      <td>...</td>\n",
              "      <td>...</td>\n",
              "      <td>...</td>\n",
              "      <td>...</td>\n",
              "    </tr>\n",
              "    <tr>\n",
              "      <th>688636</th>\n",
              "      <td>25</td>\n",
              "      <td>1335</td>\n",
              "      <td>1621</td>\n",
              "      <td>1</td>\n",
              "      <td>55</td>\n",
              "      <td>6</td>\n",
              "      <td>3</td>\n",
              "      <td>n</td>\n",
              "      <td>r</td>\n",
              "      <td>n</td>\n",
              "      <td>...</td>\n",
              "      <td>0</td>\n",
              "      <td>0</td>\n",
              "      <td>0</td>\n",
              "      <td>0</td>\n",
              "      <td>0</td>\n",
              "      <td>0</td>\n",
              "      <td>0</td>\n",
              "      <td>0</td>\n",
              "      <td>0</td>\n",
              "      <td>2</td>\n",
              "    </tr>\n",
              "    <tr>\n",
              "      <th>669485</th>\n",
              "      <td>17</td>\n",
              "      <td>715</td>\n",
              "      <td>2060</td>\n",
              "      <td>2</td>\n",
              "      <td>0</td>\n",
              "      <td>6</td>\n",
              "      <td>5</td>\n",
              "      <td>t</td>\n",
              "      <td>r</td>\n",
              "      <td>n</td>\n",
              "      <td>...</td>\n",
              "      <td>0</td>\n",
              "      <td>0</td>\n",
              "      <td>0</td>\n",
              "      <td>0</td>\n",
              "      <td>0</td>\n",
              "      <td>0</td>\n",
              "      <td>0</td>\n",
              "      <td>0</td>\n",
              "      <td>0</td>\n",
              "      <td>3</td>\n",
              "    </tr>\n",
              "    <tr>\n",
              "      <th>602512</th>\n",
              "      <td>17</td>\n",
              "      <td>51</td>\n",
              "      <td>8163</td>\n",
              "      <td>3</td>\n",
              "      <td>55</td>\n",
              "      <td>6</td>\n",
              "      <td>7</td>\n",
              "      <td>t</td>\n",
              "      <td>r</td>\n",
              "      <td>q</td>\n",
              "      <td>...</td>\n",
              "      <td>0</td>\n",
              "      <td>0</td>\n",
              "      <td>0</td>\n",
              "      <td>0</td>\n",
              "      <td>0</td>\n",
              "      <td>0</td>\n",
              "      <td>0</td>\n",
              "      <td>0</td>\n",
              "      <td>0</td>\n",
              "      <td>3</td>\n",
              "    </tr>\n",
              "    <tr>\n",
              "      <th>151409</th>\n",
              "      <td>26</td>\n",
              "      <td>39</td>\n",
              "      <td>1851</td>\n",
              "      <td>2</td>\n",
              "      <td>10</td>\n",
              "      <td>14</td>\n",
              "      <td>6</td>\n",
              "      <td>t</td>\n",
              "      <td>r</td>\n",
              "      <td>x</td>\n",
              "      <td>...</td>\n",
              "      <td>0</td>\n",
              "      <td>0</td>\n",
              "      <td>0</td>\n",
              "      <td>0</td>\n",
              "      <td>0</td>\n",
              "      <td>0</td>\n",
              "      <td>0</td>\n",
              "      <td>0</td>\n",
              "      <td>0</td>\n",
              "      <td>2</td>\n",
              "    </tr>\n",
              "    <tr>\n",
              "      <th>747594</th>\n",
              "      <td>21</td>\n",
              "      <td>9</td>\n",
              "      <td>9101</td>\n",
              "      <td>3</td>\n",
              "      <td>10</td>\n",
              "      <td>7</td>\n",
              "      <td>6</td>\n",
              "      <td>n</td>\n",
              "      <td>r</td>\n",
              "      <td>n</td>\n",
              "      <td>...</td>\n",
              "      <td>0</td>\n",
              "      <td>0</td>\n",
              "      <td>0</td>\n",
              "      <td>0</td>\n",
              "      <td>0</td>\n",
              "      <td>0</td>\n",
              "      <td>0</td>\n",
              "      <td>0</td>\n",
              "      <td>0</td>\n",
              "      <td>3</td>\n",
              "    </tr>\n",
              "  </tbody>\n",
              "</table>\n",
              "<p>260601 rows × 39 columns</p>\n",
              "</div>\n",
              "      <button class=\"colab-df-convert\" onclick=\"convertToInteractive('df-18e4fe89-7ac2-496d-b44d-5ddbf1d25a39')\"\n",
              "              title=\"Convert this dataframe to an interactive table.\"\n",
              "              style=\"display:none;\">\n",
              "        \n",
              "  <svg xmlns=\"http://www.w3.org/2000/svg\" height=\"24px\"viewBox=\"0 0 24 24\"\n",
              "       width=\"24px\">\n",
              "    <path d=\"M0 0h24v24H0V0z\" fill=\"none\"/>\n",
              "    <path d=\"M18.56 5.44l.94 2.06.94-2.06 2.06-.94-2.06-.94-.94-2.06-.94 2.06-2.06.94zm-11 1L8.5 8.5l.94-2.06 2.06-.94-2.06-.94L8.5 2.5l-.94 2.06-2.06.94zm10 10l.94 2.06.94-2.06 2.06-.94-2.06-.94-.94-2.06-.94 2.06-2.06.94z\"/><path d=\"M17.41 7.96l-1.37-1.37c-.4-.4-.92-.59-1.43-.59-.52 0-1.04.2-1.43.59L10.3 9.45l-7.72 7.72c-.78.78-.78 2.05 0 2.83L4 21.41c.39.39.9.59 1.41.59.51 0 1.02-.2 1.41-.59l7.78-7.78 2.81-2.81c.8-.78.8-2.07 0-2.86zM5.41 20L4 18.59l7.72-7.72 1.47 1.35L5.41 20z\"/>\n",
              "  </svg>\n",
              "      </button>\n",
              "      \n",
              "  <style>\n",
              "    .colab-df-container {\n",
              "      display:flex;\n",
              "      flex-wrap:wrap;\n",
              "      gap: 12px;\n",
              "    }\n",
              "\n",
              "    .colab-df-convert {\n",
              "      background-color: #E8F0FE;\n",
              "      border: none;\n",
              "      border-radius: 50%;\n",
              "      cursor: pointer;\n",
              "      display: none;\n",
              "      fill: #1967D2;\n",
              "      height: 32px;\n",
              "      padding: 0 0 0 0;\n",
              "      width: 32px;\n",
              "    }\n",
              "\n",
              "    .colab-df-convert:hover {\n",
              "      background-color: #E2EBFA;\n",
              "      box-shadow: 0px 1px 2px rgba(60, 64, 67, 0.3), 0px 1px 3px 1px rgba(60, 64, 67, 0.15);\n",
              "      fill: #174EA6;\n",
              "    }\n",
              "\n",
              "    [theme=dark] .colab-df-convert {\n",
              "      background-color: #3B4455;\n",
              "      fill: #D2E3FC;\n",
              "    }\n",
              "\n",
              "    [theme=dark] .colab-df-convert:hover {\n",
              "      background-color: #434B5C;\n",
              "      box-shadow: 0px 1px 3px 1px rgba(0, 0, 0, 0.15);\n",
              "      filter: drop-shadow(0px 1px 2px rgba(0, 0, 0, 0.3));\n",
              "      fill: #FFFFFF;\n",
              "    }\n",
              "  </style>\n",
              "\n",
              "      <script>\n",
              "        const buttonEl =\n",
              "          document.querySelector('#df-18e4fe89-7ac2-496d-b44d-5ddbf1d25a39 button.colab-df-convert');\n",
              "        buttonEl.style.display =\n",
              "          google.colab.kernel.accessAllowed ? 'block' : 'none';\n",
              "\n",
              "        async function convertToInteractive(key) {\n",
              "          const element = document.querySelector('#df-18e4fe89-7ac2-496d-b44d-5ddbf1d25a39');\n",
              "          const dataTable =\n",
              "            await google.colab.kernel.invokeFunction('convertToInteractive',\n",
              "                                                     [key], {});\n",
              "          if (!dataTable) return;\n",
              "\n",
              "          const docLinkHtml = 'Like what you see? Visit the ' +\n",
              "            '<a target=\"_blank\" href=https://colab.research.google.com/notebooks/data_table.ipynb>data table notebook</a>'\n",
              "            + ' to learn more about interactive tables.';\n",
              "          element.innerHTML = '';\n",
              "          dataTable['output_type'] = 'display_data';\n",
              "          await google.colab.output.renderOutput(dataTable, element);\n",
              "          const docLink = document.createElement('div');\n",
              "          docLink.innerHTML = docLinkHtml;\n",
              "          element.appendChild(docLink);\n",
              "        }\n",
              "      </script>\n",
              "    </div>\n",
              "  </div>\n",
              "  "
            ]
          },
          "metadata": {},
          "execution_count": 6
        }
      ]
    },
    {
      "cell_type": "markdown",
      "source": [
        "## Exploratory Data Analysis"
      ],
      "metadata": {
        "id": "kHyukPk87sO2"
      }
    },
    {
      "cell_type": "markdown",
      "source": [
        "We can have an overview of the data collected"
      ],
      "metadata": {
        "id": "u4BqY5-r-CW_"
      }
    },
    {
      "cell_type": "code",
      "source": [
        "(df_train_labels.damage_grade\n",
        "             .value_counts()\n",
        "             .sort_index()\n",
        "             .plot.bar(title=\"Number of Buildings with Each Damage Grade\"))"
      ],
      "metadata": {
        "colab": {
          "base_uri": "https://localhost:8080/",
          "height": 295
        },
        "id": "mGlD6hMz8Tcn",
        "outputId": "8a952d38-8efd-4949-dbf2-b81bec867c36"
      },
      "execution_count": 7,
      "outputs": [
        {
          "output_type": "execute_result",
          "data": {
            "text/plain": [
              "<matplotlib.axes._subplots.AxesSubplot at 0x7fcd73a767c0>"
            ]
          },
          "metadata": {},
          "execution_count": 7
        },
        {
          "output_type": "display_data",
          "data": {
            "text/plain": [
              "<Figure size 432x288 with 1 Axes>"
            ],
            "image/png": "[encoded data removed]"
          },
          "metadata": {
            "needs_background": "light"
          }
        }
      ]
    },
    {
      "cell_type": "markdown",
      "source": [
        "## Feature Selection/Feature Engineering"
      ],
      "metadata": {
        "id": "LNfCvpdNrBhY"
      }
    },
    {
      "cell_type": "code",
      "source": [
        "selected_features = ['foundation_type', \n",
        "                     'area_percentage', \n",
        "                     'height_percentage',\n",
        "                     'land_surface_condition',\n",
        "                     'age',\n",
        "                     'geo_level_2_id',\n",
        "                     'ground_floor_type',\n",
        "                     'has_secondary_use',\n",
        "                     'count_families',\n",
        "                     'plan_configuration',\n",
        "                     'has_superstructure_timber',\n",
        "                     'has_superstructure_bamboo',\n",
        "                     'has_superstructure_other']\n",
        "\n",
        "df_train_values_subset = df_train_values[selected_features]"
      ],
      "metadata": {
        "id": "zjke6KAU8cJ_"
      },
      "execution_count": 8,
      "outputs": []
    },
    {
      "cell_type": "markdown",
      "source": [
        "## Transforming categorycal into numerical\n",
        "Our dataframe has categorycal values as `foundation_type`so we convert them into numbers so we can compute them with the mathematical algorithms"
      ],
      "metadata": {
        "id": "dt1cmWS7sfd1"
      }
    },
    {
      "cell_type": "code",
      "source": [
        "df_train_values_subset['foundation_type'].replace(['h', 'i', 'r', 'u', 'w'], [0, 1, 2, 3, 4], inplace=True)\n",
        "df_train_values_subset['land_surface_condition'].replace(['n', 'o', 't'], [0, 1, 2], inplace=True)\n",
        "df_train_values_subset['ground_floor_type'].replace(['f', 'm', 'v', 'x', 'z'], [0, 1, 2, 3, 4], inplace=True)\n",
        "df_train_values_subset['plan_configuration'].replace(['a', 'c', 'd', 'f', 'm', 'n', 'o', 'q', 's', 'u'], [0, 1, 2, 3, 4, 5, 6, 7, 8, 9], inplace=True)\n",
        "df_train_values_subset"
      ],
      "metadata": {
        "colab": {
          "base_uri": "https://localhost:8080/",
          "height": 606
        },
        "id": "mbLuHJs48peX",
        "outputId": "2cb18838-d584-47e4-8449-c65f088c0923"
      },
      "execution_count": 9,
      "outputs": [
        {
          "output_type": "stream",
          "name": "stderr",
          "text": [
            "/usr/local/lib/python3.8/dist-packages/pandas/core/generic.py:6619: SettingWithCopyWarning: \n",
            "A value is trying to be set on a copy of a slice from a DataFrame\n",
            "\n",
            "See the caveats in the documentation: https://pandas.pydata.org/pandas-docs/stable/user_guide/indexing.html#returning-a-view-versus-a-copy\n",
            "  return self._update_inplace(result)\n"
          ]
        },
        {
          "output_type": "execute_result",
          "data": {
            "text/plain": [
              "             foundation_type  area_percentage  height_percentage  \\\n",
              "building_id                                                        \n",
              "802906                     2                6                  5   \n",
              "28830                      2                8                  7   \n",
              "94947                      2                5                  5   \n",
              "590882                     2                6                  5   \n",
              "201944                     2                8                  9   \n",
              "...                      ...              ...                ...   \n",
              "688636                     2                6                  3   \n",
              "669485                     2                6                  5   \n",
              "602512                     2                6                  7   \n",
              "151409                     2               14                  6   \n",
              "747594                     2                7                  6   \n",
              "\n",
              "             land_surface_condition  age  geo_level_2_id  ground_floor_type  \\\n",
              "building_id                                                                   \n",
              "802906                            2   30             487                  0   \n",
              "28830                             1   10             900                  3   \n",
              "94947                             2   10             363                  0   \n",
              "590882                            2   10             418                  0   \n",
              "201944                            2   30             131                  0   \n",
              "...                             ...  ...             ...                ...   \n",
              "688636                            0   55            1335                  0   \n",
              "669485                            2    0             715                  0   \n",
              "602512                            2   55              51                  0   \n",
              "151409                            2   10              39                  2   \n",
              "747594                            0   10               9                  0   \n",
              "\n",
              "             has_secondary_use  count_families  plan_configuration  \\\n",
              "building_id                                                          \n",
              "802906                       0               1                   2   \n",
              "28830                        0               1                   2   \n",
              "94947                        0               1                   2   \n",
              "590882                       0               1                   2   \n",
              "201944                       0               1                   2   \n",
              "...                        ...             ...                 ...   \n",
              "688636                       0               1                   7   \n",
              "669485                       0               1                   2   \n",
              "602512                       0               1                   2   \n",
              "151409                       0               1                   2   \n",
              "747594                       0               3                   2   \n",
              "\n",
              "             has_superstructure_timber  has_superstructure_bamboo  \\\n",
              "building_id                                                         \n",
              "802906                               0                          0   \n",
              "28830                                0                          0   \n",
              "94947                                0                          0   \n",
              "590882                               1                          1   \n",
              "201944                               0                          0   \n",
              "...                                ...                        ...   \n",
              "688636                               0                          0   \n",
              "669485                               0                          0   \n",
              "602512                               0                          0   \n",
              "151409                               0                          0   \n",
              "747594                               0                          0   \n",
              "\n",
              "             has_superstructure_other  \n",
              "building_id                            \n",
              "802906                              0  \n",
              "28830                               0  \n",
              "94947                               0  \n",
              "590882                              0  \n",
              "201944                              0  \n",
              "...                               ...  \n",
              "688636                              0  \n",
              "669485                              0  \n",
              "602512                              0  \n",
              "151409                              0  \n",
              "747594                              0  \n",
              "\n",
              "[260601 rows x 13 columns]"
            ],
            "text/html": [
              "\n",
              "  <div id=\"df-785e8fe2-9e6b-4a2d-a96a-ce03e03a59f8\">\n",
              "    <div class=\"colab-df-container\">\n",
              "      <div>\n",
              "<style scoped>\n",
              "    .dataframe tbody tr th:only-of-type {\n",
              "        vertical-align: middle;\n",
              "    }\n",
              "\n",
              "    .dataframe tbody tr th {\n",
              "        vertical-align: top;\n",
              "    }\n",
              "\n",
              "    .dataframe thead th {\n",
              "        text-align: right;\n",
              "    }\n",
              "</style>\n",
              "<table border=\"1\" class=\"dataframe\">\n",
              "  <thead>\n",
              "    <tr style=\"text-align: right;\">\n",
              "      <th></th>\n",
              "      <th>foundation_type</th>\n",
              "      <th>area_percentage</th>\n",
              "      <th>height_percentage</th>\n",
              "      <th>land_surface_condition</th>\n",
              "      <th>age</th>\n",
              "      <th>geo_level_2_id</th>\n",
              "      <th>ground_floor_type</th>\n",
              "      <th>has_secondary_use</th>\n",
              "      <th>count_families</th>\n",
              "      <th>plan_configuration</th>\n",
              "      <th>has_superstructure_timber</th>\n",
              "      <th>has_superstructure_bamboo</th>\n",
              "      <th>has_superstructure_other</th>\n",
              "    </tr>\n",
              "    <tr>\n",
              "      <th>building_id</th>\n",
              "      <th></th>\n",
              "      <th></th>\n",
              "      <th></th>\n",
              "      <th></th>\n",
              "      <th></th>\n",
              "      <th></th>\n",
              "      <th></th>\n",
              "      <th></th>\n",
              "      <th></th>\n",
              "      <th></th>\n",
              "      <th></th>\n",
              "      <th></th>\n",
              "      <th></th>\n",
              "    </tr>\n",
              "  </thead>\n",
              "  <tbody>\n",
              "    <tr>\n",
              "      <th>802906</th>\n",
              "      <td>2</td>\n",
              "      <td>6</td>\n",
              "      <td>5</td>\n",
              "      <td>2</td>\n",
              "      <td>30</td>\n",
              "      <td>487</td>\n",
              "      <td>0</td>\n",
              "      <td>0</td>\n",
              "      <td>1</td>\n",
              "      <td>2</td>\n",
              "      <td>0</td>\n",
              "      <td>0</td>\n",
              "      <td>0</td>\n",
              "    </tr>\n",
              "    <tr>\n",
              "      <th>28830</th>\n",
              "      <td>2</td>\n",
              "      <td>8</td>\n",
              "      <td>7</td>\n",
              "      <td>1</td>\n",
              "      <td>10</td>\n",
              "      <td>900</td>\n",
              "      <td>3</td>\n",
              "      <td>0</td>\n",
              "      <td>1</td>\n",
              "      <td>2</td>\n",
              "      <td>0</td>\n",
              "      <td>0</td>\n",
              "      <td>0</td>\n",
              "    </tr>\n",
              "    <tr>\n",
              "      <th>94947</th>\n",
              "      <td>2</td>\n",
              "      <td>5</td>\n",
              "      <td>5</td>\n",
              "      <td>2</td>\n",
              "      <td>10</td>\n",
              "      <td>363</td>\n",
              "      <td>0</td>\n",
              "      <td>0</td>\n",
              "      <td>1</td>\n",
              "      <td>2</td>\n",
              "      <td>0</td>\n",
              "      <td>0</td>\n",
              "      <td>0</td>\n",
              "    </tr>\n",
              "    <tr>\n",
              "      <th>590882</th>\n",
              "      <td>2</td>\n",
              "      <td>6</td>\n",
              "      <td>5</td>\n",
              "      <td>2</td>\n",
              "      <td>10</td>\n",
              "      <td>418</td>\n",
              "      <td>0</td>\n",
              "      <td>0</td>\n",
              "      <td>1</td>\n",
              "      <td>2</td>\n",
              "      <td>1</td>\n",
              "      <td>1</td>\n",
              "      <td>0</td>\n",
              "    </tr>\n",
              "    <tr>\n",
              "      <th>201944</th>\n",
              "      <td>2</td>\n",
              "      <td>8</td>\n",
              "      <td>9</td>\n",
              "      <td>2</td>\n",
              "      <td>30</td>\n",
              "      <td>131</td>\n",
              "      <td>0</td>\n",
              "      <td>0</td>\n",
              "      <td>1</td>\n",
              "      <td>2</td>\n",
              "      <td>0</td>\n",
              "      <td>0</td>\n",
              "      <td>0</td>\n",
              "    </tr>\n",
              "    <tr>\n",
              "      <th>...</th>\n",
              "      <td>...</td>\n",
              "      <td>...</td>\n",
              "      <td>...</td>\n",
              "      <td>...</td>\n",
              "      <td>...</td>\n",
              "      <td>...</td>\n",
              "      <td>...</td>\n",
              "      <td>...</td>\n",
              "      <td>...</td>\n",
              "      <td>...</td>\n",
              "      <td>...</td>\n",
              "      <td>...</td>\n",
              "      <td>...</td>\n",
              "    </tr>\n",
              "    <tr>\n",
              "      <th>688636</th>\n",
              "      <td>2</td>\n",
              "      <td>6</td>\n",
              "      <td>3</td>\n",
              "      <td>0</td>\n",
              "      <td>55</td>\n",
              "      <td>1335</td>\n",
              "      <td>0</td>\n",
              "      <td>0</td>\n",
              "      <td>1</td>\n",
              "      <td>7</td>\n",
              "      <td>0</td>\n",
              "      <td>0</td>\n",
              "      <td>0</td>\n",
              "    </tr>\n",
              "    <tr>\n",
              "      <th>669485</th>\n",
              "      <td>2</td>\n",
              "      <td>6</td>\n",
              "      <td>5</td>\n",
              "      <td>2</td>\n",
              "      <td>0</td>\n",
              "      <td>715</td>\n",
              "      <td>0</td>\n",
              "      <td>0</td>\n",
              "      <td>1</td>\n",
              "      <td>2</td>\n",
              "      <td>0</td>\n",
              "      <td>0</td>\n",
              "      <td>0</td>\n",
              "    </tr>\n",
              "    <tr>\n",
              "      <th>602512</th>\n",
              "      <td>2</td>\n",
              "      <td>6</td>\n",
              "      <td>7</td>\n",
              "      <td>2</td>\n",
              "      <td>55</td>\n",
              "      <td>51</td>\n",
              "      <td>0</td>\n",
              "      <td>0</td>\n",
              "      <td>1</td>\n",
              "      <td>2</td>\n",
              "      <td>0</td>\n",
              "      <td>0</td>\n",
              "      <td>0</td>\n",
              "    </tr>\n",
              "    <tr>\n",
              "      <th>151409</th>\n",
              "      <td>2</td>\n",
              "      <td>14</td>\n",
              "      <td>6</td>\n",
              "      <td>2</td>\n",
              "      <td>10</td>\n",
              "      <td>39</td>\n",
              "      <td>2</td>\n",
              "      <td>0</td>\n",
              "      <td>1</td>\n",
              "      <td>2</td>\n",
              "      <td>0</td>\n",
              "      <td>0</td>\n",
              "      <td>0</td>\n",
              "    </tr>\n",
              "    <tr>\n",
              "      <th>747594</th>\n",
              "      <td>2</td>\n",
              "      <td>7</td>\n",
              "      <td>6</td>\n",
              "      <td>0</td>\n",
              "      <td>10</td>\n",
              "      <td>9</td>\n",
              "      <td>0</td>\n",
              "      <td>0</td>\n",
              "      <td>3</td>\n",
              "      <td>2</td>\n",
              "      <td>0</td>\n",
              "      <td>0</td>\n",
              "      <td>0</td>\n",
              "    </tr>\n",
              "  </tbody>\n",
              "</table>\n",
              "<p>260601 rows × 13 columns</p>\n",
              "</div>\n",
              "      <button class=\"colab-df-convert\" onclick=\"convertToInteractive('df-785e8fe2-9e6b-4a2d-a96a-ce03e03a59f8')\"\n",
              "              title=\"Convert this dataframe to an interactive table.\"\n",
              "              style=\"display:none;\">\n",
              "        \n",
              "  <svg xmlns=\"http://www.w3.org/2000/svg\" height=\"24px\"viewBox=\"0 0 24 24\"\n",
              "       width=\"24px\">\n",
              "    <path d=\"M0 0h24v24H0V0z\" fill=\"none\"/>\n",
              "    <path d=\"M18.56 5.44l.94 2.06.94-2.06 2.06-.94-2.06-.94-.94-2.06-.94 2.06-2.06.94zm-11 1L8.5 8.5l.94-2.06 2.06-.94-2.06-.94L8.5 2.5l-.94 2.06-2.06.94zm10 10l.94 2.06.94-2.06 2.06-.94-2.06-.94-.94-2.06-.94 2.06-2.06.94z\"/><path d=\"M17.41 7.96l-1.37-1.37c-.4-.4-.92-.59-1.43-.59-.52 0-1.04.2-1.43.59L10.3 9.45l-7.72 7.72c-.78.78-.78 2.05 0 2.83L4 21.41c.39.39.9.59 1.41.59.51 0 1.02-.2 1.41-.59l7.78-7.78 2.81-2.81c.8-.78.8-2.07 0-2.86zM5.41 20L4 18.59l7.72-7.72 1.47 1.35L5.41 20z\"/>\n",
              "  </svg>\n",
              "      </button>\n",
              "      \n",
              "  <style>\n",
              "    .colab-df-container {\n",
              "      display:flex;\n",
              "      flex-wrap:wrap;\n",
              "      gap: 12px;\n",
              "    }\n",
              "\n",
              "    .colab-df-convert {\n",
              "      background-color: #E8F0FE;\n",
              "      border: none;\n",
              "      border-radius: 50%;\n",
              "      cursor: pointer;\n",
              "      display: none;\n",
              "      fill: #1967D2;\n",
              "      height: 32px;\n",
              "      padding: 0 0 0 0;\n",
              "      width: 32px;\n",
              "    }\n",
              "\n",
              "    .colab-df-convert:hover {\n",
              "      background-color: #E2EBFA;\n",
              "      box-shadow: 0px 1px 2px rgba(60, 64, 67, 0.3), 0px 1px 3px 1px rgba(60, 64, 67, 0.15);\n",
              "      fill: #174EA6;\n",
              "    }\n",
              "\n",
              "    [theme=dark] .colab-df-convert {\n",
              "      background-color: #3B4455;\n",
              "      fill: #D2E3FC;\n",
              "    }\n",
              "\n",
              "    [theme=dark] .colab-df-convert:hover {\n",
              "      background-color: #434B5C;\n",
              "      box-shadow: 0px 1px 3px 1px rgba(0, 0, 0, 0.15);\n",
              "      filter: drop-shadow(0px 1px 2px rgba(0, 0, 0, 0.3));\n",
              "      fill: #FFFFFF;\n",
              "    }\n",
              "  </style>\n",
              "\n",
              "      <script>\n",
              "        const buttonEl =\n",
              "          document.querySelector('#df-785e8fe2-9e6b-4a2d-a96a-ce03e03a59f8 button.colab-df-convert');\n",
              "        buttonEl.style.display =\n",
              "          google.colab.kernel.accessAllowed ? 'block' : 'none';\n",
              "\n",
              "        async function convertToInteractive(key) {\n",
              "          const element = document.querySelector('#df-785e8fe2-9e6b-4a2d-a96a-ce03e03a59f8');\n",
              "          const dataTable =\n",
              "            await google.colab.kernel.invokeFunction('convertToInteractive',\n",
              "                                                     [key], {});\n",
              "          if (!dataTable) return;\n",
              "\n",
              "          const docLinkHtml = 'Like what you see? Visit the ' +\n",
              "            '<a target=\"_blank\" href=https://colab.research.google.com/notebooks/data_table.ipynb>data table notebook</a>'\n",
              "            + ' to learn more about interactive tables.';\n",
              "          element.innerHTML = '';\n",
              "          dataTable['output_type'] = 'display_data';\n",
              "          await google.colab.output.renderOutput(dataTable, element);\n",
              "          const docLink = document.createElement('div');\n",
              "          docLink.innerHTML = docLinkHtml;\n",
              "          element.appendChild(docLink);\n",
              "        }\n",
              "      </script>\n",
              "    </div>\n",
              "  </div>\n",
              "  "
            ]
          },
          "metadata": {},
          "execution_count": 9
        }
      ]
    },
    {
      "cell_type": "markdown",
      "source": [
        "## Data Pre-processing\n",
        "We divide the dataframe in two halves, one to train the model and the other to test our model"
      ],
      "metadata": {
        "id": "mn4UVlb37uIH"
      }
    },
    {
      "cell_type": "code",
      "source": [
        "from sklearn.model_selection import train_test_split\n",
        "X_train, X_test, y_train, y_test = train_test_split(df_train_values_subset, df_train_labels.damage_grade,\n",
        "                                                random_state=1)\n"
      ],
      "metadata": {
        "id": "DsPsptzR-hxf"
      },
      "execution_count": 10,
      "outputs": []
    },
    {
      "cell_type": "markdown",
      "source": [
        "# Modeling\n"
      ],
      "metadata": {
        "id": "0sOE0m8vslK-"
      }
    },
    {
      "cell_type": "markdown",
      "source": [
        "**Basics.**\n",
        "\n",
        "1. Use NaiveBayes\n",
        "2. Use knn or Decision Trees (Cross-validation)\n",
        "3. Use Ensembles with hyperparameters optimization\n",
        "\n"
      ],
      "metadata": {
        "id": "jpv4YOm_sn8K"
      }
    },
    {
      "cell_type": "markdown",
      "source": [
        "## PREDICTION USING NAIVEBAYES"
      ],
      "metadata": {
        "id": "l9tK051RC0Oi"
      }
    },
    {
      "cell_type": "code",
      "source": [
        "from sklearn.naive_bayes import ComplementNB # 1. choose model class\n",
        "model = ComplementNB()                       # 2. instantiate model\n",
        "model.fit(X_train, y_train)                  # 3. fit model to data\n",
        "y_model = model.predict(X_test) "
      ],
      "metadata": {
        "id": "tU-xwl_R9wD2"
      },
      "execution_count": 11,
      "outputs": []
    },
    {
      "cell_type": "markdown",
      "source": [
        "**Preevaluation**"
      ],
      "metadata": {
        "id": "7ukzsDDNs8-z"
      }
    },
    {
      "cell_type": "markdown",
      "source": [
        "The metric for the competitions is $F1-score$, which balances the precision and recall of a classifier. We will use a variant called the micro averaged  $F1-score$."
      ],
      "metadata": {
        "id": "-KU53Vuj5o_9"
      }
    },
    {
      "cell_type": "code",
      "source": [
        "from sklearn.metrics import f1_score\n",
        "f1_score(y_test, y_model, average='micro')"
      ],
      "metadata": {
        "colab": {
          "base_uri": "https://localhost:8080/"
        },
        "id": "gy0Y5nM_-92A",
        "outputId": "8e8348e3-f50f-48b5-a6b5-e1f7d156ed14"
      },
      "execution_count": 14,
      "outputs": [
        {
          "output_type": "execute_result",
          "data": {
            "text/plain": [
              "0.3342849687648693"
            ]
          },
          "metadata": {},
          "execution_count": 14
        }
      ]
    },
    {
      "cell_type": "code",
      "source": [
        "from sklearn.metrics import classification_report\n",
        "print(classification_report(y_test, y_model, labels=model.classes_))"
      ],
      "metadata": {
        "id": "gDkivxw5YfDY",
        "outputId": "49194860-0611-46a6-b187-39d03e76b036",
        "colab": {
          "base_uri": "https://localhost:8080/"
        }
      },
      "execution_count": 15,
      "outputs": [
        {
          "output_type": "stream",
          "name": "stdout",
          "text": [
            "              precision    recall  f1-score   support\n",
            "\n",
            "           1       0.15      0.78      0.25      6238\n",
            "           2       0.59      0.32      0.42     37210\n",
            "           3       0.41      0.22      0.29     21703\n",
            "\n",
            "    accuracy                           0.33     65151\n",
            "   macro avg       0.38      0.44      0.32     65151\n",
            "weighted avg       0.49      0.33      0.36     65151\n",
            "\n"
          ]
        }
      ]
    },
    {
      "cell_type": "code",
      "source": [
        "import matplotlib.pyplot as plt\n",
        "from sklearn.metrics import confusion_matrix, ConfusionMatrixDisplay\n",
        "cm = confusion_matrix(y_test, y_model, labels=model.classes_)\n",
        "disp = ConfusionMatrixDisplay(confusion_matrix=cm, display_labels=model.classes_)\n",
        "disp.plot()"
      ],
      "metadata": {
        "colab": {
          "base_uri": "https://localhost:8080/",
          "height": 296
        },
        "id": "xRs-Z7NH-xOX",
        "outputId": "03b894b4-902e-4394-c59f-6bb51a6703d0"
      },
      "execution_count": 16,
      "outputs": [
        {
          "output_type": "execute_result",
          "data": {
            "text/plain": [
              "<sklearn.metrics._plot.confusion_matrix.ConfusionMatrixDisplay at 0x7f7491fa2cd0>"
            ]
          },
          "metadata": {},
          "execution_count": 16
        },
        {
          "output_type": "display_data",
          "data": {
            "text/plain": [
              "<Figure size 432x288 with 2 Axes>"
            ],
            "image/png": "[encoded data removed]"
          },
          "metadata": {
            "needs_background": "light"
          }
        }
      ]
    },
    {
      "cell_type": "markdown",
      "source": [
        "## Prepare Submission\n",
        "\n"
      ],
      "metadata": {
        "id": "YdCC0kcn_UDx"
      }
    },
    {
      "cell_type": "markdown",
      "source": [
        "For the **final** $F1-micro-average$, we'll be using the class predictions, not the class probabilities. \n",
        "\n",
        "Let's load up the data, select the subset of features we used to train the model and create dummy variables, and see what we get on the leaderboard.\n",
        "\n",
        "\n",
        "\n",
        "\n",
        "\n"
      ],
      "metadata": {
        "id": "k6EJqeor579d"
      }
    },
    {
      "cell_type": "code",
      "source": [
        "!wget https://github.com/alan-flint/Richter-DrivenData/raw/master/input/test_values.csv\n",
        "test_values = pd.read_csv('test_values.csv', index_col='building_id')\n",
        "test_values_subset = test_values[selected_features]\n",
        "test_values_subset['foundation_type'].replace(['h', 'i', 'r', 'u', 'w'], [0, 1, 2, 3, 4], inplace=True)\n",
        "test_values_subset['land_surface_condition'].replace(['n', 'o', 't'], [0, 1, 2], inplace=True)\n",
        "test_values_subset['ground_floor_type'].replace(['f', 'm', 'v', 'x', 'z'], [0, 1, 2, 3, 4], inplace=True)\n",
        "test_values_subset['plan_configuration'].replace(['a', 'c', 'd', 'f', 'm', 'n', 'o', 'q', 's', 'u'], [0, 1, 2, 3, 4, 5, 6, 7, 8, 9], inplace=True)"
      ],
      "metadata": {
        "id": "VU-JukmG_XjZ",
        "colab": {
          "base_uri": "https://localhost:8080/"
        },
        "outputId": "fbde3b99-bb23-4a40-e4d1-c85949349057"
      },
      "execution_count": 29,
      "outputs": [
        {
          "output_type": "stream",
          "name": "stdout",
          "text": [
            "--2022-12-13 10:41:39--  https://github.com/alan-flint/Richter-DrivenData/raw/master/input/test_values.csv\n",
            "Resolving github.com (github.com)... 20.201.28.151\n",
            "Connecting to github.com (github.com)|20.201.28.151|:443... connected.\n",
            "HTTP request sent, awaiting response... 302 Found\n",
            "Location: https://raw.githubusercontent.com/alan-flint/Richter-DrivenData/master/input/test_values.csv [following]\n",
            "--2022-12-13 10:41:40--  https://raw.githubusercontent.com/alan-flint/Richter-DrivenData/master/input/test_values.csv\n",
            "Resolving raw.githubusercontent.com (raw.githubusercontent.com)... 185.199.108.133, 185.199.109.133, 185.199.110.133, ...\n",
            "Connecting to raw.githubusercontent.com (raw.githubusercontent.com)|185.199.108.133|:443... connected.\n",
            "HTTP request sent, awaiting response... 200 OK\n",
            "Length: 7815385 (7.5M) [text/plain]\n",
            "Saving to: ‘test_values.csv’\n",
            "\n",
            "test_values.csv     100%[===================>]   7.45M  --.-KB/s    in 0.09s   \n",
            "\n",
            "2022-12-13 10:41:40 (83.5 MB/s) - ‘test_values.csv’ saved [7815385/7815385]\n",
            "\n"
          ]
        },
        {
          "output_type": "stream",
          "name": "stderr",
          "text": [
            "/usr/local/lib/python3.8/dist-packages/pandas/core/generic.py:6619: SettingWithCopyWarning: \n",
            "A value is trying to be set on a copy of a slice from a DataFrame\n",
            "\n",
            "See the caveats in the documentation: https://pandas.pydata.org/pandas-docs/stable/user_guide/indexing.html#returning-a-view-versus-a-copy\n",
            "  return self._update_inplace(result)\n"
          ]
        }
      ]
    },
    {
      "cell_type": "markdown",
      "source": [
        "**Make Predictions**: Note that we use the class predictions, not the class probabilities."
      ],
      "metadata": {
        "id": "gtHRCnmT6t6e"
      }
    },
    {
      "cell_type": "code",
      "source": [
        "predictions = model.predict(test_values_subset)"
      ],
      "metadata": {
        "id": "KrfyULaX_dRU"
      },
      "execution_count": 67,
      "outputs": []
    },
    {
      "cell_type": "markdown",
      "source": [
        "**Save Submission**\n",
        "\n",
        "We can use the column name and index from the submission format to ensure our predictions are in the form."
      ],
      "metadata": {
        "id": "hI_JwyAY6TjI"
      }
    },
    {
      "cell_type": "code",
      "source": [
        "!wget https://github.com/alan-flint/Richter-DrivenData/raw/master/input/submission_format.csv\n",
        "submission_format = pd.read_csv('submission_format.csv', index_col='building_id')\n",
        "my_submission = pd.DataFrame(data=predictions,\n",
        "                             columns=submission_format.columns,\n",
        "                             index=submission_format.index)"
      ],
      "metadata": {
        "colab": {
          "base_uri": "https://localhost:8080/",
          "height": 515
        },
        "id": "eshSJPV3_kNR",
        "outputId": "bc2a0904-e89b-445b-c2d6-ea6e5fd2437b"
      },
      "execution_count": 68,
      "outputs": [
        {
          "output_type": "stream",
          "name": "stdout",
          "text": [
            "--2022-12-12 11:03:40--  https://github.com/alan-flint/Richter-DrivenData/raw/master/input/submission_format.csv\n",
            "Resolving github.com (github.com)... 140.82.112.4\n",
            "Connecting to github.com (github.com)|140.82.112.4|:443... connected.\n",
            "HTTP request sent, awaiting response... 302 Found\n",
            "Location: https://raw.githubusercontent.com/alan-flint/Richter-DrivenData/master/input/submission_format.csv [following]\n",
            "--2022-12-12 11:03:40--  https://raw.githubusercontent.com/alan-flint/Richter-DrivenData/master/input/submission_format.csv\n",
            "Resolving raw.githubusercontent.com (raw.githubusercontent.com)... 185.199.109.133, 185.199.111.133, 185.199.108.133, ...\n",
            "Connecting to raw.githubusercontent.com (raw.githubusercontent.com)|185.199.109.133|:443... connected.\n",
            "HTTP request sent, awaiting response... 200 OK\n",
            "Length: 777012 (759K) [text/plain]\n",
            "Saving to: ‘submission_format.csv.1’\n",
            "\n",
            "submission_format.c 100%[===================>] 758.80K  --.-KB/s    in 0.04s   \n",
            "\n",
            "2022-12-12 11:03:40 (16.8 MB/s) - ‘submission_format.csv.1’ saved [777012/777012]\n",
            "\n"
          ]
        },
        {
          "output_type": "execute_result",
          "data": {
            "text/plain": [
              "             damage_grade\n",
              "building_id              \n",
              "300051                  3\n",
              "99355                   2\n",
              "890251                  2\n",
              "745817                  1\n",
              "421793                  2"
            ],
            "text/html": [
              "\n",
              "  <div id=\"df-8218799d-ffed-46cb-83af-15a735315349\">\n",
              "    <div class=\"colab-df-container\">\n",
              "      <div>\n",
              "<style scoped>\n",
              "    .dataframe tbody tr th:only-of-type {\n",
              "        vertical-align: middle;\n",
              "    }\n",
              "\n",
              "    .dataframe tbody tr th {\n",
              "        vertical-align: top;\n",
              "    }\n",
              "\n",
              "    .dataframe thead th {\n",
              "        text-align: right;\n",
              "    }\n",
              "</style>\n",
              "<table border=\"1\" class=\"dataframe\">\n",
              "  <thead>\n",
              "    <tr style=\"text-align: right;\">\n",
              "      <th></th>\n",
              "      <th>damage_grade</th>\n",
              "    </tr>\n",
              "    <tr>\n",
              "      <th>building_id</th>\n",
              "      <th></th>\n",
              "    </tr>\n",
              "  </thead>\n",
              "  <tbody>\n",
              "    <tr>\n",
              "      <th>300051</th>\n",
              "      <td>3</td>\n",
              "    </tr>\n",
              "    <tr>\n",
              "      <th>99355</th>\n",
              "      <td>2</td>\n",
              "    </tr>\n",
              "    <tr>\n",
              "      <th>890251</th>\n",
              "      <td>2</td>\n",
              "    </tr>\n",
              "    <tr>\n",
              "      <th>745817</th>\n",
              "      <td>1</td>\n",
              "    </tr>\n",
              "    <tr>\n",
              "      <th>421793</th>\n",
              "      <td>2</td>\n",
              "    </tr>\n",
              "  </tbody>\n",
              "</table>\n",
              "</div>\n",
              "      <button class=\"colab-df-convert\" onclick=\"convertToInteractive('df-8218799d-ffed-46cb-83af-15a735315349')\"\n",
              "              title=\"Convert this dataframe to an interactive table.\"\n",
              "              style=\"display:none;\">\n",
              "        \n",
              "  <svg xmlns=\"http://www.w3.org/2000/svg\" height=\"24px\"viewBox=\"0 0 24 24\"\n",
              "       width=\"24px\">\n",
              "    <path d=\"M0 0h24v24H0V0z\" fill=\"none\"/>\n",
              "    <path d=\"M18.56 5.44l.94 2.06.94-2.06 2.06-.94-2.06-.94-.94-2.06-.94 2.06-2.06.94zm-11 1L8.5 8.5l.94-2.06 2.06-.94-2.06-.94L8.5 2.5l-.94 2.06-2.06.94zm10 10l.94 2.06.94-2.06 2.06-.94-2.06-.94-.94-2.06-.94 2.06-2.06.94z\"/><path d=\"M17.41 7.96l-1.37-1.37c-.4-.4-.92-.59-1.43-.59-.52 0-1.04.2-1.43.59L10.3 9.45l-7.72 7.72c-.78.78-.78 2.05 0 2.83L4 21.41c.39.39.9.59 1.41.59.51 0 1.02-.2 1.41-.59l7.78-7.78 2.81-2.81c.8-.78.8-2.07 0-2.86zM5.41 20L4 18.59l7.72-7.72 1.47 1.35L5.41 20z\"/>\n",
              "  </svg>\n",
              "      </button>\n",
              "      \n",
              "  <style>\n",
              "    .colab-df-container {\n",
              "      display:flex;\n",
              "      flex-wrap:wrap;\n",
              "      gap: 12px;\n",
              "    }\n",
              "\n",
              "    .colab-df-convert {\n",
              "      background-color: #E8F0FE;\n",
              "      border: none;\n",
              "      border-radius: 50%;\n",
              "      cursor: pointer;\n",
              "      display: none;\n",
              "      fill: #1967D2;\n",
              "      height: 32px;\n",
              "      padding: 0 0 0 0;\n",
              "      width: 32px;\n",
              "    }\n",
              "\n",
              "    .colab-df-convert:hover {\n",
              "      background-color: #E2EBFA;\n",
              "      box-shadow: 0px 1px 2px rgba(60, 64, 67, 0.3), 0px 1px 3px 1px rgba(60, 64, 67, 0.15);\n",
              "      fill: #174EA6;\n",
              "    }\n",
              "\n",
              "    [theme=dark] .colab-df-convert {\n",
              "      background-color: #3B4455;\n",
              "      fill: #D2E3FC;\n",
              "    }\n",
              "\n",
              "    [theme=dark] .colab-df-convert:hover {\n",
              "      background-color: #434B5C;\n",
              "      box-shadow: 0px 1px 3px 1px rgba(0, 0, 0, 0.15);\n",
              "      filter: drop-shadow(0px 1px 2px rgba(0, 0, 0, 0.3));\n",
              "      fill: #FFFFFF;\n",
              "    }\n",
              "  </style>\n",
              "\n",
              "      <script>\n",
              "        const buttonEl =\n",
              "          document.querySelector('#df-8218799d-ffed-46cb-83af-15a735315349 button.colab-df-convert');\n",
              "        buttonEl.style.display =\n",
              "          google.colab.kernel.accessAllowed ? 'block' : 'none';\n",
              "\n",
              "        async function convertToInteractive(key) {\n",
              "          const element = document.querySelector('#df-8218799d-ffed-46cb-83af-15a735315349');\n",
              "          const dataTable =\n",
              "            await google.colab.kernel.invokeFunction('convertToInteractive',\n",
              "                                                     [key], {});\n",
              "          if (!dataTable) return;\n",
              "\n",
              "          const docLinkHtml = 'Like what you see? Visit the ' +\n",
              "            '<a target=\"_blank\" href=https://colab.research.google.com/notebooks/data_table.ipynb>data table notebook</a>'\n",
              "            + ' to learn more about interactive tables.';\n",
              "          element.innerHTML = '';\n",
              "          dataTable['output_type'] = 'display_data';\n",
              "          await google.colab.output.renderOutput(dataTable, element);\n",
              "          const docLink = document.createElement('div');\n",
              "          docLink.innerHTML = docLinkHtml;\n",
              "          element.appendChild(docLink);\n",
              "        }\n",
              "      </script>\n",
              "    </div>\n",
              "  </div>\n",
              "  "
            ]
          },
          "metadata": {},
          "execution_count": 68
        }
      ]
    },
    {
      "cell_type": "code",
      "source": [
        "my_submission.to_csv('submissionNB.csv')"
      ],
      "metadata": {
        "id": "Xd4N-adt_qa4"
      },
      "execution_count": 69,
      "outputs": []
    },
    {
      "cell_type": "markdown",
      "source": [
        "## PREDICTION WITH DECISION TREES"
      ],
      "metadata": {
        "id": "qElsfxIADC9Z"
      }
    },
    {
      "cell_type": "code",
      "source": [
        "import sklearn\n",
        "from sklearn import tree\n",
        "from sklearn.tree import DecisionTreeClassifier"
      ],
      "metadata": {
        "id": "cdeVx08xoHFc"
      },
      "execution_count": 12,
      "outputs": []
    },
    {
      "cell_type": "markdown",
      "source": [
        "We create our tree object and create the decission with the training subset"
      ],
      "metadata": {
        "id": "oFs40WADFjV5"
      }
    },
    {
      "cell_type": "code",
      "source": [
        "from sklearn.tree import DecisionTreeClassifier\n",
        "dtree = DecisionTreeClassifier().fit(X_train, y_train)"
      ],
      "metadata": {
        "id": "Tt-vHgDIpoAq"
      },
      "execution_count": 13,
      "outputs": []
    },
    {
      "cell_type": "markdown",
      "source": [
        "Now we can try our trained tree with a test"
      ],
      "metadata": {
        "id": "5r7DS1T9Fxx0"
      }
    },
    {
      "cell_type": "code",
      "source": [
        "preds = dtree.predict(X_test)"
      ],
      "metadata": {
        "id": "PAY6KCBrxch3"
      },
      "execution_count": 15,
      "outputs": []
    },
    {
      "cell_type": "markdown",
      "source": [
        "Once predicted we see the results and the f1-score"
      ],
      "metadata": {
        "id": "cAJ82b2AIqo4"
      }
    },
    {
      "cell_type": "code",
      "source": [
        "from sklearn.metrics import classification_report\n",
        "print(\"Metrics \\n\" \n",
        "      +classification_report(y_true=y_train[:len(preds)], y_pred=preds))\n",
        "\n",
        "# Confussion Matrix\n",
        "print(\"Confussion Matrix:\\n\")\n",
        "matriz = pd.crosstab(y_train[:len(preds)], preds, rownames=['actual'], colnames=['preds'])\n",
        "print(matriz)\n",
        "\n",
        "print(pd.DataFrame({'Feature': selected_features ,\n",
        "              'Importance': dtree.feature_importances_}),\"\\n\")\n"
      ],
      "metadata": {
        "colab": {
          "base_uri": "https://localhost:8080/"
        },
        "id": "HXDsm-YOxv1H",
        "outputId": "9870e711-6a3d-430b-99db-a55f56608c5c"
      },
      "execution_count": 20,
      "outputs": [
        {
          "output_type": "stream",
          "name": "stdout",
          "text": [
            "Metrics \n",
            "              precision    recall  f1-score   support\n",
            "\n",
            "           1       0.10      0.11      0.10      6285\n",
            "           2       0.57      0.57      0.57     37085\n",
            "           3       0.33      0.32      0.33     21781\n",
            "\n",
            "    accuracy                           0.44     65151\n",
            "   macro avg       0.33      0.33      0.33     65151\n",
            "weighted avg       0.44      0.44      0.44     65151\n",
            "\n",
            "Confussion Matrix:\n",
            "\n",
            "preds      1      2      3\n",
            "actual                    \n",
            "1        671   3622   1992\n",
            "2       3847  21220  12018\n",
            "3       2277  12540   6964\n",
            "                      Feature  Importance\n",
            "0             foundation_type    0.056127\n",
            "1             area_percentage    0.155266\n",
            "2           height_percentage    0.102972\n",
            "3      land_surface_condition    0.029759\n",
            "4                         age    0.192915\n",
            "5              geo_level_2_id    0.343878\n",
            "6           ground_floor_type    0.019962\n",
            "7           has_secondary_use    0.017777\n",
            "8              count_families    0.041263\n",
            "9          plan_configuration    0.015258\n",
            "10  has_superstructure_timber    0.011023\n",
            "11  has_superstructure_bamboo    0.008815\n",
            "12   has_superstructure_other    0.004986 \n",
            "\n"
          ]
        }
      ]
    },
    {
      "cell_type": "code",
      "source": [
        "import matplotlib.pyplot as plt\n",
        "from sklearn.metrics import confusion_matrix, ConfusionMatrixDisplay\n",
        "cm = confusion_matrix(y_test, y_model, labels=model.classes_)\n",
        "disp = ConfusionMatrixDisplay(confusion_matrix=cm, display_labels=model.classes_)\n",
        "disp.plot()"
      ],
      "metadata": {
        "colab": {
          "base_uri": "https://localhost:8080/",
          "height": 296
        },
        "id": "zfLFOgKXITK-",
        "outputId": "5c073623-6472-4de1-c133-38e2fbad76c9"
      },
      "execution_count": 39,
      "outputs": [
        {
          "output_type": "execute_result",
          "data": {
            "text/plain": [
              "<sklearn.metrics._plot.confusion_matrix.ConfusionMatrixDisplay at 0x7fcd70668310>"
            ]
          },
          "metadata": {},
          "execution_count": 39
        },
        {
          "output_type": "display_data",
          "data": {
            "text/plain": [
              "<Figure size 432x288 with 2 Axes>"
            ],
            "image/png": "[encoded data removed]"
          },
          "metadata": {
            "needs_background": "light"
          }
        }
      ]
    },
    {
      "cell_type": "markdown",
      "source": [
        "We can train the tree with the complete dataframe and see that the results are much better"
      ],
      "metadata": {
        "id": "YQFE--IEF9iT"
      }
    },
    {
      "cell_type": "code",
      "source": [
        "x = df_train_values_subset\n",
        "y = df_train_labels.damage_grade\n",
        "\n",
        "dtree = DecisionTreeClassifier().fit(x, y)\n",
        "preds = dtree.predict(x)\n",
        "\n",
        "from sklearn.metrics import classification_report\n",
        "print(\"Metrics \\n\" \n",
        "      +classification_report(y_true=y, y_pred=preds))\n",
        "\n",
        "# Confussion Matrix\n",
        "print(\"Confussion Matrix:\\n\")\n",
        "matriz = pd.crosstab(y, preds, rownames=['actual'], colnames=['preds'])\n",
        "print(matriz)\n",
        "\n",
        "print(pd.DataFrame({'Feature': selected_features ,\n",
        "              'Importance': dtree.feature_importances_}),\"\\n\")"
      ],
      "metadata": {
        "colab": {
          "base_uri": "https://localhost:8080/"
        },
        "id": "VszStLU_7T2s",
        "outputId": "350e649b-5413-48f8-d63d-f2da6bd76676"
      },
      "execution_count": 33,
      "outputs": [
        {
          "output_type": "stream",
          "name": "stdout",
          "text": [
            "Metrics \n",
            "              precision    recall  f1-score   support\n",
            "\n",
            "           1       0.90      0.96      0.93     25124\n",
            "           2       0.93      0.97      0.95    148259\n",
            "           3       0.97      0.89      0.93     87218\n",
            "\n",
            "    accuracy                           0.94    260601\n",
            "   macro avg       0.93      0.94      0.94    260601\n",
            "weighted avg       0.94      0.94      0.94    260601\n",
            "\n",
            "Confussion Matrix:\n",
            "\n",
            "preds       1       2      3\n",
            "actual                      \n",
            "1       24140     927     57\n",
            "2        2172  143484   2603\n",
            "3         376    9493  77349\n",
            "                      Feature  Importance\n",
            "0             foundation_type    0.057348\n",
            "1             area_percentage    0.151193\n",
            "2           height_percentage    0.100651\n",
            "3      land_surface_condition    0.027288\n",
            "4                         age    0.186132\n",
            "5              geo_level_2_id    0.356507\n",
            "6           ground_floor_type    0.019792\n",
            "7           has_secondary_use    0.018390\n",
            "8              count_families    0.042729\n",
            "9          plan_configuration    0.014999\n",
            "10  has_superstructure_timber    0.010972\n",
            "11  has_superstructure_bamboo    0.008824\n",
            "12   has_superstructure_other    0.005176 \n",
            "\n"
          ]
        }
      ]
    },
    {
      "cell_type": "markdown",
      "source": [
        "We export our subset of predictions"
      ],
      "metadata": {
        "id": "zXP7chDbIhax"
      }
    },
    {
      "cell_type": "code",
      "source": [
        "preds = dtree.predict(test_values_subset)\n",
        "!wget https://github.com/alan-flint/Richter-DrivenData/raw/master/input/submission_format.csv\n",
        "submission_format = pd.read_csv('submission_format.csv', index_col='building_id')\n",
        "my_submission = pd.DataFrame(data=preds,\n",
        "                             columns=submission_format.columns,\n",
        "                             index=submission_format.index)\n",
        "my_submission.to_csv('submissionDT.csv')"
      ],
      "metadata": {
        "colab": {
          "base_uri": "https://localhost:8080/"
        },
        "id": "vlQMyl6EGJ23",
        "outputId": "3a2d4fc7-a67b-4054-ff5a-25358d766525"
      },
      "execution_count": 38,
      "outputs": [
        {
          "output_type": "stream",
          "name": "stdout",
          "text": [
            "--2022-12-13 10:54:44--  https://github.com/alan-flint/Richter-DrivenData/raw/master/input/submission_format.csv\n",
            "Resolving github.com (github.com)... 140.82.112.4\n",
            "Connecting to github.com (github.com)|140.82.112.4|:443... connected.\n",
            "HTTP request sent, awaiting response... 302 Found\n",
            "Location: https://raw.githubusercontent.com/alan-flint/Richter-DrivenData/master/input/submission_format.csv [following]\n",
            "--2022-12-13 10:54:44--  https://raw.githubusercontent.com/alan-flint/Richter-DrivenData/master/input/submission_format.csv\n",
            "Resolving raw.githubusercontent.com (raw.githubusercontent.com)... 185.199.110.133, 185.199.111.133, 185.199.108.133, ...\n",
            "Connecting to raw.githubusercontent.com (raw.githubusercontent.com)|185.199.110.133|:443... connected.\n",
            "HTTP request sent, awaiting response... 200 OK\n",
            "Length: 777012 (759K) [text/plain]\n",
            "Saving to: ‘submission_format.csv.6’\n",
            "\n",
            "\rsubmission_format.c   0%[                    ]       0  --.-KB/s               \rsubmission_format.c 100%[===================>] 758.80K  --.-KB/s    in 0.04s   \n",
            "\n",
            "2022-12-13 10:54:44 (16.7 MB/s) - ‘submission_format.csv.6’ saved [777012/777012]\n",
            "\n"
          ]
        }
      ]
    }
  ]
}